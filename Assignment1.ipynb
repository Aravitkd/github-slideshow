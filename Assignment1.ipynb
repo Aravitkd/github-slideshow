{
 "cells": [
  {
   "cell_type": "markdown",
   "id": "f766c3dc",
   "metadata": {},
   "source": [
    "# PRACTICE SHEET FOR PYTHON\n"
   ]
  },
  {
   "cell_type": "markdown",
   "id": "eae97055",
   "metadata": {},
   "source": [
    "1. A company decided to give bonus of 5% to employee if his/her year of service is more than 5 years. Ask user for their salary and year of service and print the net bonus amount."
   ]
  },
  {
   "cell_type": "code",
   "execution_count": 1,
   "id": "d7d1d2cc",
   "metadata": {
    "scrolled": true
   },
   "outputs": [
    {
     "name": "stdout",
     "output_type": "stream",
     "text": [
      "Enter your salary458326256\n",
      "Enter the year of service55\n",
      "Your net bonus is 22916312.8\n"
     ]
    }
   ],
   "source": [
    "sal=int(input(\"Enter your salary\"))\n",
    "year=int(input(\"Enter the year of service\"))\n",
    "if year<5:\n",
    "    print(\"Bonus is not available\")\n",
    "else:\n",
    "    bonus=(sal*5)/100\n",
    "    net_bonus=sal+bonus\n",
    "    print(\"Your net bonus is\",bonus)"
   ]
  },
  {
   "cell_type": "markdown",
   "id": "3f51ea06",
   "metadata": {},
   "source": [
    "2. A school has following rules for grading system:\n",
    "a. Below 25 - F \n",
    "b. 25 to 45 - E \n",
    "c. 45 to 50 - D\n",
    "d. 50 to 60 - C\n",
    "e. 60 to 80 - B\n",
    "f. Above 80 - A\n",
    "Ask user to enter marks and print the corresponding grade."
   ]
  },
  {
   "cell_type": "code",
   "execution_count": 2,
   "id": "1ea6c163",
   "metadata": {
    "scrolled": true
   },
   "outputs": [
    {
     "name": "stdout",
     "output_type": "stream",
     "text": [
      "Enter your mark :85\n",
      "Your grade is 'A'\n"
     ]
    }
   ],
   "source": [
    "mark=int(input(\"Enter your mark :\"))\n",
    "if mark>80:\n",
    "    print(\"Your grade is 'A'\")\n",
    "elif (mark<80) and (mark>=60):\n",
    "    print(\"Your grade is 'B'\")\n",
    "elif (mark<60) and (mark>=50):\n",
    "    print(\"Your grade is 'C'\")\n",
    "elif (mark<50) and (mark>=45):\n",
    "    print(\"Your grade is 'D'\")\n",
    "elif (mark<45) and (mark>=25):\n",
    "    print(\"Your grade is 'E'\")\n",
    "elif mark<25:\n",
    "    print(\"Your grade is 'F'\")\n",
    "    \n",
    "    "
   ]
  },
  {
   "cell_type": "markdown",
   "id": "dea0cc0d",
   "metadata": {},
   "source": [
    "3. A student will not be allowed to sit in exam if his/her attendence is less than 75%. Take following input from user Number of classes held Number of classes attended. And print percentage of class attended Is student is allowed to sit in exam or not."
   ]
  },
  {
   "cell_type": "code",
   "execution_count": 3,
   "id": "b033ce5c",
   "metadata": {},
   "outputs": [
    {
     "name": "stdout",
     "output_type": "stream",
     "text": [
      "Enter the number of classes held :50\n",
      "Enter the number of classes attended :40\n",
      "Percentage of class attended is  80.0\n",
      "You are allowed to sit in the exam\n"
     ]
    }
   ],
   "source": [
    "held=int(input(\"Enter the number of classes held :\"))\n",
    "attend=int(input(\"Enter the number of classes attended :\"))\n",
    "a=(attend/held)*100\n",
    "if a>=75:\n",
    "    print(\"Percentage of class attended is \",a)\n",
    "    print(\"You are allowed to sit in the exam\")\n",
    "else:\n",
    "    print(\"Percentage of class attended is \",a)\n",
    "    print(\"You are not allowed to sit in the exam\")"
   ]
  },
  {
   "cell_type": "markdown",
   "id": "0fc1dd4f",
   "metadata": {},
   "source": [
    "4. Ask user to enter age, sex ( M or F ), marital status ( Y or N ) and then using following rules print their place of service. if employee is female, then she will work only in urban areas. if employee is a male and age is in between 20 to 40 then he may work in anywhere if employee is male and age is in between 40 t0 60 then he will work in urban areas only. And any other input of age should print \"ERROR\""
   ]
  },
  {
   "cell_type": "code",
   "execution_count": 4,
   "id": "13dbaad0",
   "metadata": {},
   "outputs": [
    {
     "name": "stdout",
     "output_type": "stream",
     "text": [
      "Enter your age :56\n",
      "Enter your sex 'M'or 'F'M\n",
      "Enter your martial status 'Y' or 'N'Y\n",
      "You will work in urban areas only\n"
     ]
    }
   ],
   "source": [
    "age=int(input(\"Enter your age :\"))\n",
    "sex=input(\"Enter your sex 'M'or 'F'\")\n",
    "mart=input(\"Enter your martial status 'Y' or 'N'\")\n",
    "if (sex=='F'):\n",
    "    print(\"You will work only in urban areas\")\n",
    "elif (sex=='M'):\n",
    "    if (age<40) and (age>=20):\n",
    "        print(\"You may work in anywhere\")\n",
    "    elif (age<60) and (age>=40):\n",
    "        print(\"You will work in urban areas only\")\n",
    "    else:\n",
    "        print(\"ERROR\")\n",
    "    "
   ]
  },
  {
   "cell_type": "markdown",
   "id": "c11f7182",
   "metadata": {},
   "source": [
    "5. Take 10 integers from keyboard using loop and print their average value on the screen."
   ]
  },
  {
   "cell_type": "code",
   "execution_count": 5,
   "id": "6485d78c",
   "metadata": {},
   "outputs": [
    {
     "name": "stdout",
     "output_type": "stream",
     "text": [
      "Enter ten numbers\n",
      "Enter the numbers2\n",
      "Enter the numbers5\n",
      "Enter the numbers5\n",
      "Enter the numbers5\n",
      "Enter the numbers5\n",
      "Enter the numbers5\n",
      "Enter the numbers5\n",
      "Enter the numbers5\n",
      "Enter the numbers5\n",
      "Enter the numbers5\n",
      "Average is  4.7\n"
     ]
    }
   ],
   "source": [
    "print(\"Enter ten numbers\")\n",
    "lst=[]\n",
    "sum=0\n",
    "for i in range(0,10):\n",
    "    ar=int(input(\"Enter the numbers\"))\n",
    "    lst.append(ar)\n",
    "    sum=sum+lst[i]\n",
    "avg=sum/10\n",
    "print(\"Average is \",avg)"
   ]
  },
  {
   "cell_type": "markdown",
   "id": "a2b087a8",
   "metadata": {},
   "source": [
    "6. Write a program to calculate factorial of a number. \n",
    "\n"
   ]
  },
  {
   "cell_type": "code",
   "execution_count": 6,
   "id": "a022cb5a",
   "metadata": {},
   "outputs": [
    {
     "name": "stdout",
     "output_type": "stream",
     "text": [
      "Enter the number5\n",
      "factorial is 120\n"
     ]
    }
   ],
   "source": [
    "a=int(input(\"Enter the number\"))\n",
    "fact=1\n",
    "if a==0:\n",
    "    print(\"factorial is 0\")\n",
    "else:\n",
    "    for i in range(1,a+1):\n",
    "        fact=fact*i\n",
    "    print(\"factorial is\",fact)    \n",
    "        "
   ]
  },
  {
   "cell_type": "markdown",
   "id": "09288d58",
   "metadata": {},
   "source": [
    "7. Take integer inputs from user until he/she presses q ( Ask to press q to quit after every integer input ). Print average and product of all numbers."
   ]
  },
  {
   "cell_type": "code",
   "execution_count": 3,
   "id": "8ba6110e",
   "metadata": {},
   "outputs": [
    {
     "name": "stdout",
     "output_type": "stream",
     "text": [
      "Enter the element3\n",
      "Press 'q' to quit\n"
     ]
    },
    {
     "ename": "TypeError",
     "evalue": "unsupported operand type(s) for +: 'int' and 'str'",
     "output_type": "error",
     "traceback": [
      "\u001b[1;31m---------------------------------------------------------------------------\u001b[0m",
      "\u001b[1;31mTypeError\u001b[0m                                 Traceback (most recent call last)",
      "\u001b[1;32m<ipython-input-3-2029f0469432>\u001b[0m in \u001b[0;36m<module>\u001b[1;34m\u001b[0m\n\u001b[0;32m      7\u001b[0m     \u001b[0mprint\u001b[0m\u001b[1;33m(\u001b[0m\u001b[1;34m\"Press 'q' to quit\"\u001b[0m\u001b[1;33m)\u001b[0m\u001b[1;33m\u001b[0m\u001b[1;33m\u001b[0m\u001b[0m\n\u001b[0;32m      8\u001b[0m     \u001b[1;32mif\u001b[0m \u001b[0melement\u001b[0m\u001b[1;33m!=\u001b[0m\u001b[1;34m'q'\u001b[0m\u001b[1;33m:\u001b[0m\u001b[1;33m\u001b[0m\u001b[1;33m\u001b[0m\u001b[0m\n\u001b[1;32m----> 9\u001b[1;33m         \u001b[0msum\u001b[0m\u001b[1;33m=\u001b[0m\u001b[0msum\u001b[0m\u001b[1;33m+\u001b[0m\u001b[0mlst\u001b[0m\u001b[1;33m[\u001b[0m\u001b[0mi\u001b[0m\u001b[1;33m]\u001b[0m\u001b[1;33m\u001b[0m\u001b[1;33m\u001b[0m\u001b[0m\n\u001b[0m\u001b[0;32m     10\u001b[0m         \u001b[0mcount\u001b[0m\u001b[1;33m=\u001b[0m\u001b[0mcount\u001b[0m\u001b[1;33m+\u001b[0m\u001b[1;36m1\u001b[0m\u001b[1;33m\u001b[0m\u001b[1;33m\u001b[0m\u001b[0m\n\u001b[0;32m     11\u001b[0m     \u001b[1;32melse\u001b[0m\u001b[1;33m:\u001b[0m\u001b[1;33m\u001b[0m\u001b[1;33m\u001b[0m\u001b[0m\n",
      "\u001b[1;31mTypeError\u001b[0m: unsupported operand type(s) for +: 'int' and 'str'"
     ]
    }
   ],
   "source": [
    "sum=0\n",
    "lst=[]\n",
    "count=0\n",
    "for i in range(0,100):\n",
    "    element=input(\"Enter the element\")\n",
    "    lst.append(element)\n",
    "    print(\"Press 'q' to quit\")\n",
    "    if element!='q':\n",
    "        sum=sum+lst[i]  \n",
    "        count=count+1\n",
    "    else:\n",
    "        avg=sum/count\n",
    "        print(\"Average is \",avg)\n",
    "        \n",
    "    \n",
    "   \n",
    "        "
   ]
  },
  {
   "cell_type": "markdown",
   "id": "286732b9",
   "metadata": {},
   "source": [
    " 8. A three digit number is called Armstrong number if sum of cube of its digit is equal to number itself.E.g.- 153 is an Armstrong number because (13)+(53)+(33) = 153. Write all Armstrong numbers between 100 to 500. "
   ]
  },
  {
   "cell_type": "code",
   "execution_count": null,
   "id": "4f14e6d8",
   "metadata": {},
   "outputs": [],
   "source": [
    "num=int(input(\"Enter the number\"))\n",
    "sum=0\n",
    "temp=num\n",
    "while temp>0:\n",
    "    digit=temp%10\n",
    "    sum=sum+(digit**3)\n",
    "    temp=temp/10\n",
    "if num==sum:\n",
    "    print(num,\"is an Amstrong number\")\n",
    "else:\n",
    "    print(num,\"is not an Amstrong number\")\n",
    "    \n",
    "\n"
   ]
  },
  {
   "cell_type": "markdown",
   "id": "f2ce5c99",
   "metadata": {},
   "source": [
    " 9. Write a program to find the length of the string \"refrigerator\" without using len function."
   ]
  },
  {
   "cell_type": "code",
   "execution_count": 7,
   "id": "38278cde",
   "metadata": {},
   "outputs": [
    {
     "ename": "NameError",
     "evalue": "name 'strlen' is not defined",
     "output_type": "error",
     "traceback": [
      "\u001b[1;31m---------------------------------------------------------------------------\u001b[0m",
      "\u001b[1;31mNameError\u001b[0m                                 Traceback (most recent call last)",
      "\u001b[1;32m<ipython-input-7-d58dc6d3b0a3>\u001b[0m in \u001b[0;36m<module>\u001b[1;34m\u001b[0m\n\u001b[0;32m      1\u001b[0m \u001b[0mstr\u001b[0m\u001b[1;33m=\u001b[0m\u001b[1;34m\"refrigerator\"\u001b[0m\u001b[1;33m\u001b[0m\u001b[1;33m\u001b[0m\u001b[0m\n\u001b[0;32m      2\u001b[0m \u001b[0mcount\u001b[0m\u001b[1;33m=\u001b[0m\u001b[1;36m0\u001b[0m\u001b[1;33m\u001b[0m\u001b[1;33m\u001b[0m\u001b[0m\n\u001b[1;32m----> 3\u001b[1;33m \u001b[0ma\u001b[0m\u001b[1;33m=\u001b[0m\u001b[0mstrlen\u001b[0m\u001b[1;33m(\u001b[0m\u001b[0mstr\u001b[0m\u001b[1;33m)\u001b[0m\u001b[1;33m\u001b[0m\u001b[1;33m\u001b[0m\u001b[0m\n\u001b[0m\u001b[0;32m      4\u001b[0m \u001b[0ma\u001b[0m\u001b[1;33m\u001b[0m\u001b[1;33m\u001b[0m\u001b[0m\n",
      "\u001b[1;31mNameError\u001b[0m: name 'strlen' is not defined"
     ]
    }
   ],
   "source": [
    "str=\"refrigerator\"\n",
    "count=0\n",
    "a=strlen(str)\n",
    "a    \n"
   ]
  },
  {
   "cell_type": "code",
   "execution_count": null,
   "id": "8d08bcee",
   "metadata": {},
   "outputs": [],
   "source": []
  },
  {
   "cell_type": "code",
   "execution_count": null,
   "id": "5a84e34d",
   "metadata": {},
   "outputs": [],
   "source": []
  },
  {
   "cell_type": "code",
   "execution_count": null,
   "id": "ac225551",
   "metadata": {},
   "outputs": [],
   "source": []
  },
  {
   "cell_type": "markdown",
   "id": "894a8a36",
   "metadata": {},
   "source": [
    "10. Write a program that takes your full name as input and displays the abbreviations of the first and middle names except the last name which is displayed as it is. For example, if your name is Robert Brett Roser, then the output should be R.B.Roser."
   ]
  },
  {
   "cell_type": "code",
   "execution_count": 1,
   "id": "bd77338b",
   "metadata": {},
   "outputs": [
    {
     "name": "stdout",
     "output_type": "stream",
     "text": [
      "Enter your full nameAravind Anilkumar\n"
     ]
    }
   ],
   "source": [
    "name=input(\"Enter your full name\")"
   ]
  }
 ],
 "metadata": {
  "kernelspec": {
   "display_name": "Python 3",
   "language": "python",
   "name": "python3"
  },
  "language_info": {
   "codemirror_mode": {
    "name": "ipython",
    "version": 3
   },
   "file_extension": ".py",
   "mimetype": "text/x-python",
   "name": "python",
   "nbconvert_exporter": "python",
   "pygments_lexer": "ipython3",
   "version": "3.8.8"
  }
 },
 "nbformat": 4,
 "nbformat_minor": 5
}
